{
 "cells": [
  {
   "cell_type": "markdown",
   "metadata": {},
   "source": [
    "<center>\n",
    "    <img src=\"https://cf-courses-data.s3.us.cloud-object-storage.appdomain.cloud/IBMDeveloperSkillsNetwork-DS0105EN-SkillsNetwork/labs/Module2/images/SN_web_lightmode.png\" width=\"300\" alt=\"cognitiveclass.ai logo\">\n",
    "</center>\n"
   ]
  },
  {
   "cell_type": "markdown",
   "metadata": {},
   "source": [
    "#### Add your code below following the instructions given in the course\n"
   ]
  },
  {
   "cell_type": "markdown",
   "metadata": {},
   "source": [
    "# My jupiter Notebook on IBM Watson Studio"
   ]
  },
  {
   "cell_type": "markdown",
   "metadata": {},
   "source": [
    "*I am interested in data science because you can find patterns in almost any topic that generates data\n",
    "The second interest is learning the coding tools that are necessary for this activity, as they allow you to do extraordinary things*"
   ]
  },
  {
   "cell_type": "markdown",
   "metadata": {},
   "source": [
    "**Luis Andres jimenez Chargoy**\n",
    "My desired occupation is as a data scientist in a financial institution"
   ]
  },
  {
   "cell_type": "markdown",
   "metadata": {},
   "source": [
    " ### This code shows a simple example of how a function can be used to print a sequence of numbers."
   ]
  },
  {
   "cell_type": "code",
   "execution_count": 3,
   "metadata": {},
   "outputs": [
    {
     "name": "stdout",
     "output_type": "stream",
     "text": [
      "0\n",
      "1\n",
      "2\n",
      "3\n",
      "4\n",
      "5\n",
      "6\n",
      "7\n",
      "8\n",
      "9\n"
     ]
    }
   ],
   "source": [
    "def conteo(b):\n",
    "    for i in  range(b):\n",
    "        print(i)\n",
    "conteo(10)"
   ]
  },
  {
   "cell_type": "markdown",
   "metadata": {},
   "source": [
    "---\n",
    "\n",
    "### Ejemplo de elementos de Markdown\n",
    "\n",
    "1. Lista numerada\n",
    "2. Segundo elemento de la lista numerada\n",
    "3. Tercer elemento de la lista numerada\n",
    "\n",
    "| Nombre | Edad | Género |\n",
    "| --- | --- | --- |\n",
    "| Ana | 25 | Femenino |\n",
    "| Juan | 32 | Masculino |\n",
    "| Maria | 19 | Femenino |\n",
    "\n",
    "![Imagen ](https://via.placeholder.com/350x150)\n",
    "\n",
    "---\n"
   ]
  },
  {
   "cell_type": "code",
   "execution_count": null,
   "metadata": {},
   "outputs": [],
   "source": []
  }
 ],
 "metadata": {
  "kernelspec": {
   "display_name": "Python 3 (ipykernel)",
   "language": "python",
   "name": "python3"
  },
  "language_info": {
   "codemirror_mode": {
    "name": "ipython",
    "version": 3
   },
   "file_extension": ".py",
   "mimetype": "text/x-python",
   "name": "python",
   "nbconvert_exporter": "python",
   "pygments_lexer": "ipython3",
   "version": "3.9.13"
  }
 },
 "nbformat": 4,
 "nbformat_minor": 4
}
